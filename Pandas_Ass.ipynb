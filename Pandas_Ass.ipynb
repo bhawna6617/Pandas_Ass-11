{
 "cells": [
  {
   "cell_type": "markdown",
   "id": "a0d2a54f",
   "metadata": {},
   "source": [
    "# question 1\n"
   ]
  },
  {
   "cell_type": "code",
   "execution_count": 6,
   "id": "04661acd",
   "metadata": {},
   "outputs": [],
   "source": [
    "import pandas as pd"
   ]
  },
  {
   "cell_type": "code",
   "execution_count": 7,
   "id": "2cea3a0d",
   "metadata": {},
   "outputs": [],
   "source": [
    "data =[4,8,15,16,23,42]"
   ]
  },
  {
   "cell_type": "code",
   "execution_count": 8,
   "id": "0360868f",
   "metadata": {},
   "outputs": [
    {
     "name": "stdout",
     "output_type": "stream",
     "text": [
      "0     4\n",
      "1     8\n",
      "2    15\n",
      "3    16\n",
      "4    23\n",
      "5    42\n",
      "dtype: int64\n"
     ]
    }
   ],
   "source": [
    "series = pd.Series(data)\n",
    "print(series)\n"
   ]
  },
  {
   "cell_type": "code",
   "execution_count": 9,
   "id": "3068f683",
   "metadata": {},
   "outputs": [
    {
     "name": "stdout",
     "output_type": "stream",
     "text": [
      "Requirement already satisfied: pandas in c:\\users\\bhawn\\appdata\\local\\programs\\python\\python311\\lib\\site-packages (2.0.3)\n",
      "Requirement already satisfied: python-dateutil>=2.8.2 in c:\\users\\bhawn\\appdata\\local\\programs\\python\\python311\\lib\\site-packages (from pandas) (2.8.2)\n",
      "Requirement already satisfied: pytz>=2020.1 in c:\\users\\bhawn\\appdata\\local\\programs\\python\\python311\\lib\\site-packages (from pandas) (2023.3)\n",
      "Requirement already satisfied: tzdata>=2022.1 in c:\\users\\bhawn\\appdata\\local\\programs\\python\\python311\\lib\\site-packages (from pandas) (2023.3)\n",
      "Requirement already satisfied: numpy>=1.21.0 in c:\\users\\bhawn\\appdata\\local\\programs\\python\\python311\\lib\\site-packages (from pandas) (1.25.1)\n",
      "Requirement already satisfied: six>=1.5 in c:\\users\\bhawn\\appdata\\local\\programs\\python\\python311\\lib\\site-packages (from python-dateutil>=2.8.2->pandas) (1.16.0)\n",
      "Note: you may need to restart the kernel to use updated packages.\n"
     ]
    },
    {
     "name": "stderr",
     "output_type": "stream",
     "text": [
      "\n",
      "[notice] A new release of pip available: 22.3.1 -> 23.2\n",
      "[notice] To update, run: C:\\Users\\bhawn\\AppData\\Local\\Programs\\Python\\Python311\\python.exe -m pip install --upgrade pip\n"
     ]
    }
   ],
   "source": [
    "pip install pandas"
   ]
  },
  {
   "cell_type": "markdown",
   "id": "2030adfc",
   "metadata": {},
   "source": [
    "# question 2"
   ]
  },
  {
   "cell_type": "code",
   "execution_count": 15,
   "id": "441a3e58",
   "metadata": {},
   "outputs": [
    {
     "name": "stdout",
     "output_type": "stream",
     "text": [
      "0     11\n",
      "1     22\n",
      "2     33\n",
      "3     44\n",
      "4     55\n",
      "5     66\n",
      "6     77\n",
      "7     88\n",
      "8     99\n",
      "9    100\n",
      "dtype: int64\n"
     ]
    }
   ],
   "source": [
    "lst = [11,22,33,44,55,66,77,88,99,100]\n",
    "num=pd.Series(lst)\n",
    "print(num)"
   ]
  },
  {
   "cell_type": "markdown",
   "id": "1ccb3589",
   "metadata": {},
   "source": [
    "# question 3"
   ]
  },
  {
   "cell_type": "code",
   "execution_count": 16,
   "id": "f49d5436",
   "metadata": {},
   "outputs": [
    {
     "name": "stdout",
     "output_type": "stream",
     "text": [
      "     Name  Age  Gender\n",
      "0   Nandu   19  female\n",
      "1    Aayu   20    male\n",
      "2  sharma   21    male\n"
     ]
    }
   ],
   "source": [
    "data = {\n",
    "    'Name': [\"Nandu\",\"Aayu\",\"sharma\"],\n",
    "    'Age':[19,20,21],\n",
    "    'Gender':[\"female\",\"male\",\"male\"]\n",
    "    \n",
    "}\n",
    "\n",
    "df = pd.DataFrame(data)\n",
    "print(df)"
   ]
  },
  {
   "cell_type": "markdown",
   "id": "03d804ac",
   "metadata": {},
   "source": [
    "# question 4\n"
   ]
  },
  {
   "cell_type": "code",
   "execution_count": 17,
   "id": "bc8e0192",
   "metadata": {},
   "outputs": [],
   "source": [
    "# In Pandas, a DataFrame is a two-dimensional labeled data structure that can hold data of different types (numeric, string, boolean, etc.) in a tabular format, similar to a spreadsheet or SQL table. "
   ]
  },
  {
   "cell_type": "code",
   "execution_count": 18,
   "id": "9c1f45c0",
   "metadata": {},
   "outputs": [],
   "source": [
    "# On the other hand, a Pandas Series is a one-dimensional labeled array that can hold a single type of data (e.g., integers, strings, floats). It is similar to a one-column DataFrame or a labeled array."
   ]
  },
  {
   "cell_type": "code",
   "execution_count": 20,
   "id": "52778bf1",
   "metadata": {},
   "outputs": [
    {
     "name": "stdout",
     "output_type": "stream",
     "text": [
      "0    25\n",
      "1    23\n",
      "2    26\n",
      "3    34\n",
      "dtype: int64\n"
     ]
    }
   ],
   "source": [
    "age =pd.Series ([25,23,26,34])\n",
    "print(age)"
   ]
  },
  {
   "cell_type": "code",
   "execution_count": 23,
   "id": "00150e25",
   "metadata": {},
   "outputs": [
    {
     "name": "stdout",
     "output_type": "stream",
     "text": [
      "         name  age Gender\n",
      "0        papa   43   male\n",
      "1        bhai   21   male\n",
      "2       mummy   39  femal\n",
      "3  big father   82   male\n"
     ]
    }
   ],
   "source": [
    "# example :-\n",
    "\n",
    "df1 ={\n",
    "    \"name\":[\"papa\",\"bhai\",\"mummy\",'big father'],\n",
    "    \n",
    "    \"age\":[43,21,39,82],\n",
    "    \"Gender\":['male',\"male\",'femal','male']\n",
    "}\n",
    "\n",
    "data = pd.DataFrame(df1)\n",
    "print(data)"
   ]
  },
  {
   "cell_type": "markdown",
   "id": "d0e32642",
   "metadata": {},
   "source": [
    "# question 5"
   ]
  },
  {
   "cell_type": "code",
   "execution_count": 24,
   "id": "a15dd2d1",
   "metadata": {},
   "outputs": [],
   "source": [
    "# 1. head():- it give record first three data\n",
    "# 2. tail():- it give record last three data if you want to see other data than use pd.tail(3)like that"
   ]
  },
  {
   "cell_type": "code",
   "execution_count": 25,
   "id": "a429c45b",
   "metadata": {},
   "outputs": [
    {
     "name": "stdout",
     "output_type": "stream",
     "text": [
      "             Age\n",
      "count   5.000000\n",
      "mean   27.800000\n",
      "std     4.969909\n",
      "min    22.000000\n",
      "25%    25.000000\n",
      "50%    27.000000\n",
      "75%    30.000000\n",
      "max    35.000000\n"
     ]
    }
   ],
   "source": [
    "# 3 info():-: This function provides a concise summary of the DataFrame, including the data types, non-null counts, and memory usage.\n",
    "# 4. describe :-This function generates summary statistics of the numeric columns in the DataFrame, such as count, mean, min, max, etc.\n",
    "# example:-\n",
    "\n",
    "data = {'Age': [25, 30, 27, 22, 35]}\n",
    "df = pd.DataFrame(data)\n",
    "\n",
    "\n",
    "print(df.describe())\n"
   ]
  },
  {
   "cell_type": "code",
   "execution_count": 26,
   "id": "9122590d",
   "metadata": {},
   "outputs": [
    {
     "name": "stdout",
     "output_type": "stream",
     "text": [
      "Gender\n",
      "Female    29.0\n",
      "Male      26.0\n",
      "Name: Age, dtype: float64\n"
     ]
    }
   ],
   "source": [
    "# groupby():=\n",
    "\n",
    "data = {'Name': ['Alice', 'Bob', 'Claire', 'David', 'Emma'],\n",
    "        'Age': [25, 30, 27, 22, 35],\n",
    "        'Gender': ['Female', 'Male', 'Female', 'Male', 'Female']}\n",
    "df = pd.DataFrame(data)\n",
    "\n",
    "# Group by 'Gender' and calculate the average age for each gender\n",
    "grouped_df = df.groupby('Gender')['Age'].mean()\n",
    "print(grouped_df)\n"
   ]
  },
  {
   "cell_type": "markdown",
   "id": "1e9c7685",
   "metadata": {},
   "source": [
    "# question6"
   ]
  },
  {
   "cell_type": "code",
   "execution_count": 27,
   "id": "15b3dddc",
   "metadata": {},
   "outputs": [
    {
     "name": "stdout",
     "output_type": "stream",
     "text": [
      "0    10\n",
      "1    20\n",
      "2    35\n",
      "3    40\n",
      "4    50\n",
      "dtype: int64\n"
     ]
    }
   ],
   "source": [
    "# 1. Series: A Pandas Series is mutable, meaning you can modify its elements, add or delete elements, and change its values after it is created.\n",
    "# \n",
    "data = [10, 20, 30, 40, 50]\n",
    "series = pd.Series(data)\n",
    "\n",
    "# Modify an element\n",
    "series[2] = 35\n",
    "\n",
    "print(series)\n"
   ]
  },
  {
   "cell_type": "code",
   "execution_count": 28,
   "id": "f00ce262",
   "metadata": {},
   "outputs": [
    {
     "name": "stdout",
     "output_type": "stream",
     "text": [
      "     Name  Age  Gender\n",
      "0   Alice   25  Female\n",
      "1     Bob   32    Male\n",
      "2  Claire   27  Female\n"
     ]
    }
   ],
   "source": [
    "# 2. DataFrame: A Pandas DataFrame is also mutable, allowing you to modify individual values, add or remove columns and rows, and perform various data manipulations.\n",
    "# example:=\n",
    "\n",
    "data = {\n",
    "    'Name': ['Alice', 'Bob', 'Claire'],\n",
    "    'Age': [25, 30, 27],\n",
    "    'Gender': ['Female', 'Male', 'Female']\n",
    "}\n",
    "df = pd.DataFrame(data)\n",
    "\n",
    "# Modify a value in the DataFrame\n",
    "df.at[1, 'Age'] = 32\n",
    "\n",
    "print(df)\n"
   ]
  },
  {
   "cell_type": "code",
   "execution_count": 29,
   "id": "d9ab1caf",
   "metadata": {},
   "outputs": [],
   "source": [
    "# 3.Panel: A Pandas Panel was a three-dimensional data structure in earlier versions of Pandas. However, it has been deprecated and removed in more recent versions in favor of using multi-index DataFrames or other data structures. Panels were not mutable, and their functionality has been replaced by other more versatile data structures in Pandas."
   ]
  },
  {
   "cell_type": "markdown",
   "id": "aa679911",
   "metadata": {},
   "source": [
    "# question 7"
   ]
  },
  {
   "cell_type": "code",
   "execution_count": 30,
   "id": "79829530",
   "metadata": {},
   "outputs": [
    {
     "name": "stdout",
     "output_type": "stream",
     "text": [
      "     Name  Age  Gender\n",
      "0   Alice   25  Female\n",
      "1     Bob   30    Male\n",
      "2  Claire   27  Female\n"
     ]
    }
   ],
   "source": [
    "\n",
    "names = pd.Series(['Alice', 'Bob', 'Claire'])\n",
    "\n",
    "\n",
    "ages = pd.Series([25, 30, 27])\n",
    "\n",
    "\n",
    "genders = pd.Series(['Female', 'Male', 'Female'])\n",
    "\n",
    "\n",
    "df = pd.DataFrame({\n",
    "    'Name': names,\n",
    "    'Age': ages,\n",
    "    'Gender': genders\n",
    "})\n",
    "\n",
    "\n",
    "print(df)\n"
   ]
  },
  {
   "cell_type": "code",
   "execution_count": null,
   "id": "5090a623",
   "metadata": {},
   "outputs": [],
   "source": []
  }
 ],
 "metadata": {
  "kernelspec": {
   "display_name": "Python 3 (ipykernel)",
   "language": "python",
   "name": "python3"
  },
  "language_info": {
   "codemirror_mode": {
    "name": "ipython",
    "version": 3
   },
   "file_extension": ".py",
   "mimetype": "text/x-python",
   "name": "python",
   "nbconvert_exporter": "python",
   "pygments_lexer": "ipython3",
   "version": "3.11.3"
  }
 },
 "nbformat": 4,
 "nbformat_minor": 5
}
